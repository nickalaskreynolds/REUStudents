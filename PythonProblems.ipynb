{
 "cells": [
  {
   "cell_type": "markdown",
   "metadata": {},
   "source": [
    "# Python Problems\n",
    "----\n",
    "Make sure you put comments ```\"\"\" comment example \"\"\"``` under each function or class defined.\n",
    "\n",
    "You will also need 2 standard python libraries __numpy__ and __matplotlib__. Use your prefered method (e.g. *pip* or *conda*) to install them."
   ]
  },
  {
   "cell_type": "markdown",
   "metadata": {},
   "source": [
    "# Problem 1\n",
    "---------\n",
    "### Part A\n",
    "Import a crucial python library titled numpy that is used for fast, element-wise computations. You may also give it a short alias such as np because we will be calling many functions from this library. This is not a default python package so it must be installed manually. It should already be installed with with Anaconda package manager."
   ]
  },
  {
   "cell_type": "code",
   "execution_count": null,
   "metadata": {},
   "outputs": [],
   "source": []
  },
  {
   "cell_type": "markdown",
   "metadata": {},
   "source": [
    "### Part B\n",
    "Correct/complete these functions"
   ]
  },
  {
   "cell_type": "code",
   "execution_count": null,
   "metadata": {},
   "outputs": [],
   "source": [
    "def hello\n",
    "    print('Hello World!')"
   ]
  },
  {
   "cell_type": "code",
   "execution_count": null,
   "metadata": {},
   "outputs": [],
   "source": [
    "def power(a,b):\n",
    "    \"\"\"Return a^b\"\"\""
   ]
  },
  {
   "cell_type": "markdown",
   "metadata": {},
   "source": [
    "### Part C\n",
    "#### Call these functions: \n",
    "- First call hello 5 times (don't hardcode)\n",
    "- call power with answer 4^5"
   ]
  },
  {
   "cell_type": "code",
   "execution_count": null,
   "metadata": {},
   "outputs": [],
   "source": []
  },
  {
   "cell_type": "markdown",
   "metadata": {},
   "source": [
    "### Part D\n",
    "Write a function that takes a list of numbers as an argument and returns a list of numbers that is the square of the list (with the same indexing). Do this with default python (i.e. no __numpy__ etc.)."
   ]
  },
  {
   "cell_type": "code",
   "execution_count": null,
   "metadata": {},
   "outputs": [],
   "source": []
  },
  {
   "cell_type": "markdown",
   "metadata": {},
   "source": [
    "### Part E\n",
    "Now write a function that takes an numpy-array of floats argument and returns a numpy array of floats that are squares of the input. This must be performed with the numpy package using element-wise number operations. "
   ]
  },
  {
   "cell_type": "code",
   "execution_count": null,
   "metadata": {},
   "outputs": [],
   "source": []
  },
  {
   "cell_type": "markdown",
   "metadata": {},
   "source": [
    "### Part F\n",
    "Write a function that prints every number from 1 to 100, inclusive. For every number that is divisible by 3 print the string 'Fizz' instead. For every number that is divisible by 5 print 'Buzz' instead. If the number is divisible by 3 AND 5 print 'FizzBuzz'."
   ]
  },
  {
   "cell_type": "code",
   "execution_count": null,
   "metadata": {},
   "outputs": [],
   "source": []
  },
  {
   "cell_type": "markdown",
   "metadata": {},
   "source": [
    "# Problem 2\n",
    "--------\n",
    "### Part A\n",
    "Correct/complete this class"
   ]
  },
  {
   "cell_type": "code",
   "execution_count": null,
   "metadata": {},
   "outputs": [],
   "source": [
    "class Cat:\n",
    "    \"\"\"Class object initializes the name and weight (in lbs) of a cat\"\"\"\n",
    "    def __init__(name, weight):\n",
    "        self.name = name\n",
    "        self.weight = weight\n",
    "        \n",
    "    def cuteness(self):\n",
    "        hello()\n",
    "        print('My cat, {}, is this cute: {}!!!!!'.format(name,power(self.weight,2)) + r'(=^._.^=)')"
   ]
  },
  {
   "cell_type": "markdown",
   "metadata": {},
   "source": [
    "### Part B\n",
    "- Create a new instance of a Cat with name Sir Pounce, 8\n",
    "- determine the cuteness of Sir Pounce"
   ]
  },
  {
   "cell_type": "code",
   "execution_count": null,
   "metadata": {},
   "outputs": [],
   "source": []
  },
  {
   "cell_type": "markdown",
   "metadata": {},
   "source": [
    "### Part C\n",
    "Write a class Car that takes 3 arguments and assigns them as attributes: make, model, year. Give every car a position of 0 initially. The Car class must also have a drive method that changes the position of the car by a value given as an argument. You can assume the car moves in only one dimension."
   ]
  },
  {
   "cell_type": "code",
   "execution_count": null,
   "metadata": {},
   "outputs": [],
   "source": []
  },
  {
   "cell_type": "markdown",
   "metadata": {},
   "source": [
    "### Part D\n",
    "Create an instance of your Car class. Move the car by 5 units by calling its drive method. Add a registration method to your Car class that prints the make, model, and year of a Car instance (this can be done without redefining your Car class!). Call the registration method of your Car instance."
   ]
  },
  {
   "cell_type": "code",
   "execution_count": null,
   "metadata": {},
   "outputs": [],
   "source": []
  },
  {
   "cell_type": "markdown",
   "metadata": {},
   "source": [
    "# Problem 3\n",
    "---\n",
    "This will be utilizing pythons robust plotting __matplotlib__ library\n",
    "\n",
    "### Part A\n",
    "Using __matplotlib__.pyplot, plot ```sin(x) versus x  from 0 to 4π```."
   ]
  },
  {
   "cell_type": "code",
   "execution_count": null,
   "metadata": {},
   "outputs": [],
   "source": []
  },
  {
   "cell_type": "markdown",
   "metadata": {},
   "source": [
    "### Part B\n",
    "Use python to read in the ```oldfaithful.txt``` (I would use __numpy__.readtxt) and plot columns 2 vs 3, as dots not lines, using __matplotlib__ with appropriate labels."
   ]
  },
  {
   "cell_type": "code",
   "execution_count": null,
   "metadata": {},
   "outputs": [],
   "source": []
  },
  {
   "cell_type": "markdown",
   "metadata": {},
   "source": [
    "# This was by no means comprehensive, but should give a nice intro to programming with python"
   ]
  },
  {
   "cell_type": "code",
   "execution_count": null,
   "metadata": {},
   "outputs": [],
   "source": []
  }
 ],
 "metadata": {
  "kernelspec": {
   "display_name": "Python 3",
   "language": "python",
   "name": "python3"
  },
  "language_info": {
   "codemirror_mode": {
    "name": "ipython",
    "version": 3
   },
   "file_extension": ".py",
   "mimetype": "text/x-python",
   "name": "python",
   "nbconvert_exporter": "python",
   "pygments_lexer": "ipython3",
   "version": "3.6.5"
  }
 },
 "nbformat": 4,
 "nbformat_minor": 2
}
