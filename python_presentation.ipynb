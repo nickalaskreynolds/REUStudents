{
 "cells": [
  {
   "cell_type": "markdown",
   "metadata": {},
   "source": [
    "# Python Lecture Companion"
   ]
  },
  {
   "cell_type": "markdown",
   "metadata": {},
   "source": [
    "# Hello World\n",
    "----\n",
    "Python requires a working knowledge of simple data types like strings and numbers. Numbers can be broken down into two categories that are very similar in function: integers (int) and floating point numbers (float). We can use variables to store values."
   ]
  },
  {
   "cell_type": "code",
   "execution_count": 1,
   "metadata": {},
   "outputs": [
    {
     "name": "stdout",
     "output_type": "stream",
     "text": [
      "Hello World!\n"
     ]
    }
   ],
   "source": [
    "message = \"Hello World!\"\n",
    "print(message)"
   ]
  },
  {
   "cell_type": "code",
   "execution_count": 2,
   "metadata": {},
   "outputs": [
    {
     "name": "stdout",
     "output_type": "stream",
     "text": [
      "Hello World!\n"
     ]
    }
   ],
   "source": [
    "print(\"Hello World!\")"
   ]
  },
  {
   "cell_type": "markdown",
   "metadata": {},
   "source": [
    "# Types\n",
    "----\n",
    "Common types in base python are: int,float,str,list,dict,tuple,function,class,generators"
   ]
  },
  {
   "cell_type": "code",
   "execution_count": 4,
   "metadata": {},
   "outputs": [
    {
     "name": "stdout",
     "output_type": "stream",
     "text": [
      "10 <class 'int'>\n",
      "10.0 <class 'float'>\n",
      "[0, 1, 2, 3] <class 'list'>\n",
      "Hello World! <class 'str'>\n"
     ]
    }
   ],
   "source": [
    "x = 10\n",
    "print(x,type(x))\n",
    "x = 10.\n",
    "print(x,type(x))\n",
    "x = [0,1,2,3]\n",
    "print(x,type(x))\n",
    "print(message,type(message))"
   ]
  },
  {
   "cell_type": "markdown",
   "metadata": {},
   "source": [
    "# Lists and Tuple\n",
    "---\n",
    "Lists are also a crucial data type. A list is a collection of objects in a particular order. Unlike other array-like data structures you might see in other languages, the items in a Python list do not have to be related and are also mutable. \n",
    "\n",
    "Square brackets are used to indicate a list while parenthesis are used to denote tuple. Here we will create a list of strings:"
   ]
  },
  {
   "cell_type": "code",
   "execution_count": 50,
   "metadata": {},
   "outputs": [
    {
     "name": "stdout",
     "output_type": "stream",
     "text": [
      "['trek', 'cannondale', 'redline', 'specialized', 0] <class 'list'>\n"
     ]
    },
    {
     "ename": "IndexError",
     "evalue": "list index out of range",
     "output_type": "error",
     "traceback": [
      "\u001b[0;31m---------------------------------------------------------------------------\u001b[0m",
      "\u001b[0;31mIndexError\u001b[0m                                Traceback (most recent call last)",
      "\u001b[0;32m<ipython-input-50-1137cfc28203>\u001b[0m in \u001b[0;36m<module>\u001b[0;34m()\u001b[0m\n\u001b[1;32m      7\u001b[0m \u001b[0;34m\u001b[0m\u001b[0m\n\u001b[1;32m      8\u001b[0m \u001b[0mprint\u001b[0m\u001b[0;34m(\u001b[0m\u001b[0mbicycles\u001b[0m\u001b[0;34m,\u001b[0m\u001b[0mtype\u001b[0m\u001b[0;34m(\u001b[0m\u001b[0mbicycles\u001b[0m\u001b[0;34m)\u001b[0m\u001b[0;34m)\u001b[0m\u001b[0;34m\u001b[0m\u001b[0m\n\u001b[0;32m----> 9\u001b[0;31m \u001b[0mprint\u001b[0m\u001b[0;34m(\u001b[0m\u001b[0mbicycles\u001b[0m\u001b[0;34m[\u001b[0m\u001b[0;36m5\u001b[0m\u001b[0;34m]\u001b[0m\u001b[0;34m)\u001b[0m\u001b[0;34m\u001b[0m\u001b[0m\n\u001b[0m",
      "\u001b[0;31mIndexError\u001b[0m: list index out of range"
     ]
    }
   ],
   "source": [
    "bicycles = ['trek', \n",
    "            'cannondale', \n",
    "            'redline', \n",
    "            'specialized']\n",
    "\n",
    "bicycles.append(0)\n",
    "\n",
    "print(bicycles,type(bicycles))\n",
    "print(bicycles[5])"
   ]
  },
  {
   "cell_type": "code",
   "execution_count": 51,
   "metadata": {},
   "outputs": [
    {
     "name": "stdout",
     "output_type": "stream",
     "text": [
      "(100, 500, 300, 150) <class 'tuple'>\n",
      "4 150\n"
     ]
    },
    {
     "ename": "AttributeError",
     "evalue": "'tuple' object has no attribute 'append'",
     "output_type": "error",
     "traceback": [
      "\u001b[0;31m---------------------------------------------------------------------------\u001b[0m",
      "\u001b[0;31mAttributeError\u001b[0m                            Traceback (most recent call last)",
      "\u001b[0;32m<ipython-input-51-e2ceac509fb9>\u001b[0m in \u001b[0;36m<module>\u001b[0;34m()\u001b[0m\n\u001b[1;32m      5\u001b[0m \u001b[0mprint\u001b[0m\u001b[0;34m(\u001b[0m\u001b[0mmoney\u001b[0m\u001b[0;34m,\u001b[0m\u001b[0mtype\u001b[0m\u001b[0;34m(\u001b[0m\u001b[0mmoney\u001b[0m\u001b[0;34m)\u001b[0m\u001b[0;34m)\u001b[0m\u001b[0;34m\u001b[0m\u001b[0m\n\u001b[1;32m      6\u001b[0m \u001b[0mprint\u001b[0m\u001b[0;34m(\u001b[0m\u001b[0mlen\u001b[0m\u001b[0;34m(\u001b[0m\u001b[0mmoney\u001b[0m\u001b[0;34m)\u001b[0m\u001b[0;34m,\u001b[0m\u001b[0mmoney\u001b[0m\u001b[0;34m[\u001b[0m\u001b[0;36m3\u001b[0m\u001b[0;34m]\u001b[0m\u001b[0;34m)\u001b[0m\u001b[0;34m\u001b[0m\u001b[0m\n\u001b[0;32m----> 7\u001b[0;31m \u001b[0mmoney\u001b[0m\u001b[0;34m.\u001b[0m\u001b[0mappend\u001b[0m\u001b[0;34m(\u001b[0m\u001b[0;36m1000\u001b[0m\u001b[0;34m)\u001b[0m\u001b[0;34m\u001b[0m\u001b[0m\n\u001b[0m",
      "\u001b[0;31mAttributeError\u001b[0m: 'tuple' object has no attribute 'append'"
     ]
    }
   ],
   "source": [
    "# parenthesis are used to denote tuple\n",
    "# much faster and more memory efficient\n",
    "# immutable\n",
    "money = (100,500,300,150)\n",
    "print(money,type(money))\n",
    "print(len(money),money[3])\n",
    "money.append(1000)"
   ]
  },
  {
   "cell_type": "markdown",
   "metadata": {},
   "source": [
    "# List Slicing\n",
    "---\n",
    "List slicing is a mechanic which allows one to access multiple elements at once."
   ]
  },
  {
   "cell_type": "code",
   "execution_count": 7,
   "metadata": {},
   "outputs": [
    {
     "name": "stdout",
     "output_type": "stream",
     "text": [
      "0\n",
      "['trek', 'cannondale']\n",
      "['trek', 'redline', 0]\n",
      "['trek', 'cannondale', 'redline', 'specialized', 0]\n"
     ]
    }
   ],
   "source": [
    "print(bicycles[-1])\n",
    "print(bicycles[0:2])\n",
    "print(bicycles[0::2])\n",
    "print(bicycles[:])"
   ]
  },
  {
   "cell_type": "markdown",
   "metadata": {},
   "source": [
    "# Dictionary\n",
    "---\n",
    "Dictionaries are collections of key-value pairs. Each key is connected to some value, and that key is used to access that value.\n",
    "\n",
    "Dictionaries are good for modeling objects with different types of data. Dictionaries are indicated by curly braces."
   ]
  },
  {
   "cell_type": "code",
   "execution_count": 14,
   "metadata": {},
   "outputs": [
    {
     "name": "stdout",
     "output_type": "stream",
     "text": [
      "dict_keys(['color', 'points', 'clothes'])\n",
      "green\n",
      "5\n",
      "['hat', 'shirt', 'alien-pants']\n"
     ]
    }
   ],
   "source": [
    "alien = {'color'  :'green',\n",
    "         'points' :5,\n",
    "         'clothes':['hat','shirt','alien-pants']}\n",
    "\n",
    "print(alien.keys())\n",
    "print(alien['color'])\n",
    "print(alien['points'])\n",
    "print(alien['clothes'])"
   ]
  },
  {
   "cell_type": "markdown",
   "metadata": {},
   "source": [
    "# Arithmetic"
   ]
  },
  {
   "cell_type": "code",
   "execution_count": 21,
   "metadata": {},
   "outputs": [
    {
     "name": "stdout",
     "output_type": "stream",
     "text": [
      "11.899999999999999\n",
      "16\n",
      "16.0\n",
      "Once TwiceTwice ThriceThriceThrice\n"
     ]
    }
   ],
   "source": [
    "print(2 * 1.4 + 10.1 - 1)\n",
    "print(2**4)\n",
    "print(2.**4)\n",
    "print('Once' * 1, 'Twice' * 2, 'Thrice' * 3)"
   ]
  },
  {
   "cell_type": "markdown",
   "metadata": {},
   "source": [
    "# Loops and Expressions\n",
    "---\n",
    "if Statements and loops are handled as they are in other languages, but the particular syntax is given below.\n",
    "\n",
    "One thing to remember is that the expressions observed in if statements and while loops boil down to either True or False. for loops will loop through iterables (lists, tuples, numpy arrays, etc.)."
   ]
  },
  {
   "cell_type": "code",
   "execution_count": 31,
   "metadata": {},
   "outputs": [
    {
     "name": "stdout",
     "output_type": "stream",
     "text": [
      "0\n",
      "Changing x from 1 to 0\n",
      "trek\n",
      "cannondale\n",
      "redline\n",
      "specialized\n",
      "Found non string 0\n"
     ]
    }
   ],
   "source": [
    "# if structure\n",
    "x = 0\n",
    "if x == 0:\n",
    "    print(x)\n",
    "    x = 1\n",
    "elif x == 1:\n",
    "    print(x)\n",
    "else:\n",
    "    print('not true!')\n",
    "\n",
    "# while structure\n",
    "while x != 0:\n",
    "    print('Changing x from {} to {}'.format(x,0))\n",
    "    x = 0\n",
    "    \n",
    "# for loops\n",
    "for company in bicycles:\n",
    "    if type(company) != str:\n",
    "        print('Found non string',company)\n",
    "        break\n",
    "    print(company)"
   ]
  },
  {
   "cell_type": "markdown",
   "metadata": {},
   "source": [
    "# try/except/else/finally\n",
    "---\n",
    "Try blocks allow temporary execution of code blocks until a break point or passing. If a break or error is thrown, the compiler moves forward to the exception blocks which handle their respective errors. Iff the try block executes without error, it passes into the else block. The finally block is always accessed"
   ]
  },
  {
   "cell_type": "code",
   "execution_count": 47,
   "metadata": {},
   "outputs": [
    {
     "name": "stdout",
     "output_type": "stream",
     "text": [
      "0\n",
      "Passed in try\n",
      "3\n"
     ]
    }
   ],
   "source": [
    "try:\n",
    "    x = 0\n",
    "    print(x)\n",
    "    print('Passed in try')\n",
    "except TypeError:\n",
    "    x = 1\n",
    "    print('Passed in except 1')\n",
    "except:\n",
    "    x = 2\n",
    "    print('Passed in except 2')\n",
    "else:\n",
    "    x = 3\n",
    "finally:\n",
    "    print(x)"
   ]
  },
  {
   "cell_type": "markdown",
   "metadata": {},
   "source": [
    "# Functions\n",
    "---\n",
    "Functions are named blocks of code. Once defined, they are called to execute their task. Functions are used when a particular task needs to be performed repeatedly. Functions make code easier to write, read, test, and fix."
   ]
  },
  {
   "cell_type": "code",
   "execution_count": 54,
   "metadata": {},
   "outputs": [
    {
     "name": "stdout",
     "output_type": "stream",
     "text": [
      "(-1+0j)\n",
      "50\n",
      "4\n",
      "50\n",
      "25\n"
     ]
    }
   ],
   "source": [
    "# squares inside\n",
    "def square(x=5):\n",
    "    '''\n",
    "    Multi line comments are allow more or less anywhere in python\n",
    "    This function takes an argument x and returns the square\n",
    "    If x not given, will return the default set of 5**2\n",
    "    '''\n",
    "    a = 10\n",
    "    return x*x # equivalent to do x**2\n",
    "\n",
    "# calling the function\n",
    "print(square(1j)) # j is complex\n",
    "a = 50\n",
    "print(a) \n",
    "print(square(2))\n",
    "print(a) # notice prints the global a not relative\n",
    "print(square())"
   ]
  },
  {
   "cell_type": "markdown",
   "metadata": {},
   "source": [
    "## Passing a List\n",
    "---\n",
    "By default, variables inside a function live in a local namespace. This means parameter names identical to those defined in an outer scope can be used without overwriting their variable(s) in memory.\n",
    "\n",
    "HOWEVER this fact can cause some confusion when certain Python objects are involved. Lists that are passed to a function are susceptible to changes inside that function, even if a different variable name is used. Said in another way, lists live in a particular place in memory and if you want to make changes to it (without altering the original) you have to make a deliberate copy."
   ]
  },
  {
   "cell_type": "code",
   "execution_count": 55,
   "metadata": {},
   "outputs": [
    {
     "name": "stdout",
     "output_type": "stream",
     "text": [
      "[10, 12, 23]\n",
      "[10, 12, 23, 0]\n"
     ]
    }
   ],
   "source": [
    "def mess_with_list(a):\n",
    "    a.append(0)\n",
    "\n",
    "x = [10, 12, 23]\n",
    "print(x)\n",
    "mess_with_list(x)\n",
    "print(x)"
   ]
  },
  {
   "cell_type": "markdown",
   "metadata": {},
   "source": [
    "## unpacking python\n",
    "---\n",
    "Remember, objects that are returned are then accessible to the line that called the function. If you want to return multiple objects at once, the Pythonic way is comma-separate them after the return keyword. This returns the objects in a tuple, which can then be retrieved via comma-separated variable declarations."
   ]
  },
  {
   "cell_type": "code",
   "execution_count": 60,
   "metadata": {},
   "outputs": [
    {
     "name": "stdout",
     "output_type": "stream",
     "text": [
      "0 1 2\n",
      "(0, 1, 2)\n"
     ]
    },
    {
     "ename": "TypeError",
     "evalue": "'tuple' object does not support item assignment",
     "output_type": "error",
     "traceback": [
      "\u001b[0;31m---------------------------------------------------------------------------\u001b[0m",
      "\u001b[0;31mTypeError\u001b[0m                                 Traceback (most recent call last)",
      "\u001b[0;32m<ipython-input-60-059fd6a38a8e>\u001b[0m in \u001b[0;36m<module>\u001b[0;34m()\u001b[0m\n\u001b[1;32m      8\u001b[0m \u001b[0mprint\u001b[0m\u001b[0;34m(\u001b[0m\u001b[0mtup\u001b[0m\u001b[0;34m)\u001b[0m\u001b[0;34m\u001b[0m\u001b[0m\n\u001b[1;32m      9\u001b[0m \u001b[0;31m# raises an error!\u001b[0m\u001b[0;34m\u001b[0m\u001b[0;34m\u001b[0m\u001b[0m\n\u001b[0;32m---> 10\u001b[0;31m \u001b[0mtup\u001b[0m\u001b[0;34m[\u001b[0m\u001b[0;36m0\u001b[0m\u001b[0;34m]\u001b[0m \u001b[0;34m=\u001b[0m \u001b[0;36m4\u001b[0m\u001b[0;34m\u001b[0m\u001b[0m\n\u001b[0m",
      "\u001b[0;31mTypeError\u001b[0m: 'tuple' object does not support item assignment"
     ]
    }
   ],
   "source": [
    "def first3():\n",
    "    return 0,1,2\n",
    "\n",
    "zero, one, two = first3()\n",
    "tup = first3()\n",
    "\n",
    "print(zero, one, two)\n",
    "print(tup)\n",
    "# raises an error!\n",
    "tup[0] = 4"
   ]
  },
  {
   "cell_type": "markdown",
   "metadata": {},
   "source": [
    "# Classes\n",
    "---\n",
    "This is the most powerful feature of python\n",
    "\n",
    "Classes are the defining aspect of object-oriented programming. They can be used to model real-world objects or more abstract ideas. If you've used Python without writing your own classes, you have still used them (everything is an object of the class type)!\n",
    "\n",
    "Understanding classes is an important step in becoming an effective programmer.\n",
    "\n",
    "Making an object from a class is called instantiation and we will be working with instances of that class."
   ]
  },
  {
   "cell_type": "code",
   "execution_count": 72,
   "metadata": {},
   "outputs": [],
   "source": [
    "class Dog(object):\n",
    "    \n",
    "    def __init__(self, name , age):\n",
    "        self.name = name\n",
    "        self.age = age\n",
    "        \n",
    "    def roll_over(self):\n",
    "        print('{} rolls over!'.format(self.name))\n",
    "        \n",
    "    def bark(self):\n",
    "        print('{} woofs!'.format(self.name))\n",
    "        \n",
    "class Cat(object):\n",
    "    \n",
    "    def __init__(self, name, age):\n",
    "        self.name = name\n",
    "        self.age = age\n",
    "        \n",
    "    def meow(self):\n",
    "        print(\"{} meows!\".format(self.name))"
   ]
  },
  {
   "cell_type": "markdown",
   "metadata": {},
   "source": [
    "A lot is going on here but you will get used to the structure as time goes on.\n",
    "\n",
    "First of all, \\_\\_init\\_\\_ (double underscores), roll\\_over, and bark are methods. Methods are functions that are part of a class and most everything you've learned about functions in this lecture applies to them. \\_\\_init\\_\\_ is a special method that Python recognizes and runs automatically whenever a new instance of Dog is created.\n",
    "\n",
    "Note the 3 parameters of \\_\\_init\\_\\_: self, name, and age. self is a required parameter in methods (by default) and it must come before all the others. self is a reference to the instance itself. Attributes are assigned to the instance by declaring self + the variable name (i.e. self.name = name). Attributes are variables associated with an instance of a class. They can, in turn, be accessed via instance.attribute.\n",
    "\n",
    "Methods roll\\_over and bark don't do much now; they just issue print statements. However one can imagine how these methods could be written to interact with a full program.\n",
    "\n",
    "Now let's create an instance of Dog and play around with its methods.\n"
   ]
  },
  {
   "cell_type": "code",
   "execution_count": 73,
   "metadata": {},
   "outputs": [
    {
     "name": "stdout",
     "output_type": "stream",
     "text": [
      "Spot rolls over!\n",
      "Spot woofs!\n",
      "Lassie rolls over!\n",
      "Sir Pounce meows!\n"
     ]
    }
   ],
   "source": [
    "doge = Dog('Spot', 3)\n",
    "doge.roll_over()\n",
    "doge.bark()\n",
    "doge.name = \"Lassie\"\n",
    "doge.roll_over()\n",
    "kibben = Cat('Sir Pounce',3)\n",
    "kibben.meow()"
   ]
  },
  {
   "cell_type": "markdown",
   "metadata": {},
   "source": [
    "# Inheritance\n",
    "---\n",
    "Our Cat definition closely resembles Dog: the \\_\\_init\\_\\_ methods are identical and Cat has a meow method that functions the same way Dog.bark does. What if we wanted to create classes of other pets? We would be forced to write duplicate code for objects that behave similarly.\n",
    "\n",
    "Fortunately Python offers inheritance, which allows one to write specialized versions of classes. When one class inherits from another, it takes all the attributes and methods of the parent class. If you are writing many classes t'hat have many of the same features, you would probably benefit from writing a base class and having other classes inherit from this base. Anything that requires less code is a good thing.\n",
    "\n",
    "Let us apply inheritance to our cat and dog problem and think about a base class: Both Dog and Cat require the same arguments at instantiantiation, hinting that the parent class should have an \\_\\_init\\_\\_ method that looks like the originals. While they don't make the same noises, both animals speak in some manner. This should be reflected also. And finally, our Dogs can roll over but we better make sure our Cats don't have that ability. We could write a parent class Pet that looks like this:"
   ]
  },
  {
   "cell_type": "code",
   "execution_count": 74,
   "metadata": {},
   "outputs": [],
   "source": [
    "class Pet(object):\n",
    "    \n",
    "    def __init__(self, name, age):\n",
    "        self.name = name\n",
    "        self.age = age\n",
    "        \n",
    "    def speak(self, speech):\n",
    "        print(speech)\n",
    "\n",
    "class Dog(Pet):\n",
    "    \n",
    "    def __init__(self, name, age):\n",
    "        # super(Dog, self).__init__(name, age) #python 2\n",
    "        super().__init__(name, age) #python 3\n",
    "        \n",
    "    def bark(self):\n",
    "        self.speak('{} woofs!'.format(self.name))\n",
    "    \n",
    "    def roll_over(self):\n",
    "        print(\"{} rolled over!\".format(self.name))\n",
    "        \n",
    "class Cat(Pet):\n",
    "    \n",
    "    def __init__(self, name, age):\n",
    "        # super(Cat, self).__init__(name, age) #python 2\n",
    "        super().__init__(name, age) #python 3\n",
    "        \n",
    "    def meow(self):\n",
    "        self.speak('{} meows!'.format(self.name))"
   ]
  },
  {
   "cell_type": "code",
   "execution_count": 75,
   "metadata": {},
   "outputs": [
    {
     "name": "stdout",
     "output_type": "stream",
     "text": [
      "Spot rolled over!\n",
      "Spot woofs!\n",
      "Lassie rolled over!\n",
      "Sir Pounce meows!\n"
     ]
    }
   ],
   "source": [
    "doge = Dog('Spot', 3)\n",
    "doge.roll_over()\n",
    "doge.bark()\n",
    "doge.name = \"Lassie\"\n",
    "doge.roll_over()\n",
    "kibben = Cat('Sir Pounce',3)\n",
    "kibben.meow()"
   ]
  },
  {
   "cell_type": "markdown",
   "metadata": {},
   "source": [
    "# Files\n",
    "---\n",
    "To work with data requires interacting with files. Here we will showcase a few ways to do that.\n",
    "\n",
    "We have saved a text file containing pi to 30 decimal places. One way to see this data is to use Python's built-in open function:"
   ]
  },
  {
   "cell_type": "code",
   "execution_count": 79,
   "metadata": {},
   "outputs": [
    {
     "name": "stdout",
     "output_type": "stream",
     "text": [
      "3.141592653589793238462643383279\n"
     ]
    }
   ],
   "source": [
    "with open('pi_digits.txt','r') as file_object:\n",
    "    contents = file_object.read()\n",
    "    print(contents)"
   ]
  },
  {
   "cell_type": "code",
   "execution_count": 80,
   "metadata": {},
   "outputs": [],
   "source": [
    "fname = 'pi_digits.txt'\n",
    "\n",
    "with open(fname, 'w') as file_object:\n",
    "    # file_object.write('\\n')\n",
    "    pass"
   ]
  },
  {
   "cell_type": "code",
   "execution_count": 83,
   "metadata": {},
   "outputs": [
    {
     "name": "stdout",
     "output_type": "stream",
     "text": [
      "['Week', 'learn java: (Worldwide)']\n"
     ]
    }
   ],
   "source": [
    "import csv\n",
    "\n",
    "filename = 'learnjava.csv'\n",
    "with open(filename) as f:\n",
    "    reader = csv.reader(f)\n",
    "    # this gives us the header row\n",
    "    header_row = next(reader) # first row\n",
    "    header_row = next(reader) # second row\n",
    "    header_row = next(reader) # third row\n",
    "    print(header_row)"
   ]
  },
  {
   "cell_type": "markdown",
   "metadata": {},
   "source": [
    "The numpy package also offers an easy way to load numerical files through the np.loadtxt function."
   ]
  },
  {
   "cell_type": "markdown",
   "metadata": {},
   "source": [
    "# External Libraries\n",
    "---\n",
    "You might have noticed I have used a few external libraries already.\n",
    "In order to use python effectively, one must often use external libraries called packages that have their own set of variables, functions, and classes defined that serve a singular purpose.\n",
    "\n",
    "This lecture will highlight a few packages: numpy, csv, and matplotlib. These packages are in many ways the canonical libraries for their respective functions."
   ]
  },
  {
   "cell_type": "markdown",
   "metadata": {},
   "source": [
    "### Numpy\n",
    "First we have to import numpy and we give it an alias np. Next we called NumPy's array function with a list of integers as an argument and a numpy array was returned. Note what happens when we try to change one of the elements."
   ]
  },
  {
   "cell_type": "code",
   "execution_count": 86,
   "metadata": {},
   "outputs": [
    {
     "name": "stdout",
     "output_type": "stream",
     "text": [
      "[0 1 2 3 4] <class 'numpy.ndarray'>\n",
      "[10  1  2  3  4]\n"
     ]
    },
    {
     "ename": "ValueError",
     "evalue": "invalid literal for int() with base 10: 'fish'",
     "output_type": "error",
     "traceback": [
      "\u001b[0;31m---------------------------------------------------------------------------\u001b[0m",
      "\u001b[0;31mValueError\u001b[0m                                Traceback (most recent call last)",
      "\u001b[0;32m<ipython-input-86-257593faf488>\u001b[0m in \u001b[0;36m<module>\u001b[0;34m()\u001b[0m\n\u001b[1;32m      6\u001b[0m \u001b[0mprint\u001b[0m\u001b[0;34m(\u001b[0m\u001b[0ma\u001b[0m\u001b[0;34m)\u001b[0m\u001b[0;34m\u001b[0m\u001b[0m\n\u001b[1;32m      7\u001b[0m \u001b[0;31m# raises an error!\u001b[0m\u001b[0;34m\u001b[0m\u001b[0;34m\u001b[0m\u001b[0m\n\u001b[0;32m----> 8\u001b[0;31m \u001b[0ma\u001b[0m\u001b[0;34m[\u001b[0m\u001b[0;36m0\u001b[0m\u001b[0;34m]\u001b[0m \u001b[0;34m=\u001b[0m \u001b[0;34m'fish'\u001b[0m\u001b[0;34m\u001b[0m\u001b[0m\n\u001b[0m",
      "\u001b[0;31mValueError\u001b[0m: invalid literal for int() with base 10: 'fish'"
     ]
    }
   ],
   "source": [
    "import numpy as np\n",
    "\n",
    "a = np.array([0, 1, 2, 3, 4])\n",
    "print(a,type(a))\n",
    "a[0] = 10\n",
    "print(a)\n",
    "# raises an error!\n",
    "a[0] = 'fish'"
   ]
  },
  {
   "cell_type": "markdown",
   "metadata": {},
   "source": [
    "Numpy's speed comes from its vectorized operations, namely during arithmetic.\n",
    "Short of writing in C (or cython), numpys operations are as fast as python can be"
   ]
  },
  {
   "cell_type": "markdown",
   "metadata": {},
   "source": [
    "### Matplotlib\n",
    "Matplotlib is the standard plotting library in Python. Simple plots can be generated very quickly. There are plenty of visualization options to make publication-quality graphs. https://matplotlib.org/\n",
    "\n",
    "I used it to create the graph in the previous lecture whose code is provided"
   ]
  },
  {
   "cell_type": "code",
   "execution_count": 92,
   "metadata": {},
   "outputs": [
    {
     "data": {
      "image/png": "[encoded data removed]",
      "text/plain": [
       "<matplotlib.figure.Figure at 0x7fbb818ebe80>"
      ]
     },
     "metadata": {},
     "output_type": "display_data"
    }
   ],
   "source": [
    "import matplotlib.pyplot as plt\n",
    "plt.xlabel(\"Value\")\n",
    "plt.ylabel(\"Squared Value\")\n",
    "plt.suptitle(\"Plot of Squares\")\n",
    "plt.plot(np.arange(11)**2)\n",
    "plt.show()"
   ]
  },
  {
   "cell_type": "markdown",
   "metadata": {},
   "source": [
    "# Useful things\n",
    "---\n",
    "Ipython (Interactive Python Terminals) and Jupyter can be very helpful\n",
    "\n",
    "Ipython allows for native interactions with your OS terminal (e.g. ls and cp commands work)\n",
    "\n",
    "Jupyter provides a clean and pretty way (enhanced with Markdown) to demonstrate code and provides (IMO) the best way to demonstrate plots (you can plot in 3D and with a GUI manipulate it)"
   ]
  },
  {
   "cell_type": "code",
   "execution_count": null,
   "metadata": {},
   "outputs": [],
   "source": []
  }
 ],
 "metadata": {
  "kernelspec": {
   "display_name": "Python 3",
   "language": "python",
   "name": "python3"
  },
  "language_info": {
   "codemirror_mode": {
    "name": "ipython",
    "version": 3
   },
   "file_extension": ".py",
   "mimetype": "text/x-python",
   "name": "python",
   "nbconvert_exporter": "python",
   "pygments_lexer": "ipython3",
   "version": "3.6.5"
  }
 },
 "nbformat": 4,
 "nbformat_minor": 2
}
